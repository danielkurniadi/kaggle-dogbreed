{
 "cells": [
  {
   "cell_type": "code",
   "execution_count": 57,
   "metadata": {},
   "outputs": [],
   "source": [
    "import os\n",
    "import sys\n",
    "import glob\n",
    "\n",
    "# data prep tools\n",
    "import pandas as pd\n",
    "import pickle\n",
    "import sklearn"
   ]
  },
  {
   "cell_type": "code",
   "execution_count": 103,
   "metadata": {},
   "outputs": [],
   "source": [
    "DATA_DIR = '/home/saa/saa-workspaces/dogbreed-kaggle/data/'\n",
    "\n",
    "DOGBREED_LABELPATH = os.path.join(DATA_DIR, 'dogbreed/raw/labels.csv')\n",
    "DOGBREED_LABELPAIRPATH = os.path.join(DATA_DIR, 'dogbreed/raw/labelpairs.csv')\n",
    "DOGBREED_ENCLABELPATH = os.path.join(DATA_DIR, 'dogbreed/raw/labels_enc.csv')\n",
    "\n",
    "DOGBREED_SPLITDIR = os.path.join(DATA_DIR, 'dogbreed/splits/')\n",
    "\n",
    "DOGBREED_TRAINDIR = os.path.join(DATA_DIR, 'dogbreed/raw/train/')"
   ]
  },
  {
   "cell_type": "code",
   "execution_count": 123,
   "metadata": {},
   "outputs": [
    {
     "data": {
      "text/html": [
       "<div>\n",
       "<style scoped>\n",
       "    .dataframe tbody tr th:only-of-type {\n",
       "        vertical-align: middle;\n",
       "    }\n",
       "\n",
       "    .dataframe tbody tr th {\n",
       "        vertical-align: top;\n",
       "    }\n",
       "\n",
       "    .dataframe thead th {\n",
       "        text-align: right;\n",
       "    }\n",
       "</style>\n",
       "<table border=\"1\" class=\"dataframe\">\n",
       "  <thead>\n",
       "    <tr style=\"text-align: right;\">\n",
       "      <th></th>\n",
       "      <th>id</th>\n",
       "      <th>breed</th>\n",
       "    </tr>\n",
       "  </thead>\n",
       "  <tbody>\n",
       "    <tr>\n",
       "      <th>0</th>\n",
       "      <td>000bec180eb18c7604dcecc8fe0dba07</td>\n",
       "      <td>boston_bull</td>\n",
       "    </tr>\n",
       "    <tr>\n",
       "      <th>1</th>\n",
       "      <td>001513dfcb2ffafc82cccf4d8bbaba97</td>\n",
       "      <td>dingo</td>\n",
       "    </tr>\n",
       "    <tr>\n",
       "      <th>2</th>\n",
       "      <td>001cdf01b096e06d78e9e5112d419397</td>\n",
       "      <td>pekinese</td>\n",
       "    </tr>\n",
       "    <tr>\n",
       "      <th>3</th>\n",
       "      <td>00214f311d5d2247d5dfe4fe24b2303d</td>\n",
       "      <td>bluetick</td>\n",
       "    </tr>\n",
       "    <tr>\n",
       "      <th>4</th>\n",
       "      <td>0021f9ceb3235effd7fcde7f7538ed62</td>\n",
       "      <td>golden_retriever</td>\n",
       "    </tr>\n",
       "  </tbody>\n",
       "</table>\n",
       "</div>"
      ],
      "text/plain": [
       "                                 id             breed\n",
       "0  000bec180eb18c7604dcecc8fe0dba07       boston_bull\n",
       "1  001513dfcb2ffafc82cccf4d8bbaba97             dingo\n",
       "2  001cdf01b096e06d78e9e5112d419397          pekinese\n",
       "3  00214f311d5d2247d5dfe4fe24b2303d          bluetick\n",
       "4  0021f9ceb3235effd7fcde7f7538ed62  golden_retriever"
      ]
     },
     "execution_count": 123,
     "metadata": {},
     "output_type": "execute_result"
    }
   ],
   "source": [
    "labels_df = pd.read_csv(DOGBREED_LABELPATH, sep=',')\n",
    "labels_df.head()"
   ]
  },
  {
   "cell_type": "code",
   "execution_count": 115,
   "metadata": {},
   "outputs": [],
   "source": [
    "def id_to_path(datadir, labels_file, id_colname, outpath):\n",
    "    # load labels from labels file\n",
    "    labels_df = pd.read_csv(labels_file)\n",
    "    labels_df[id_colname] =  labels_df[id_colname].apply(lambda idname: os.path.join(datadir, idname))\n",
    "    labels_df.rename(columns={id_colname:'paths'}, inplace=True)\n",
    "    labels_df.to_csv(outpath, index=False)"
   ]
  },
  {
   "cell_type": "code",
   "execution_count": 116,
   "metadata": {},
   "outputs": [],
   "source": [
    "id_to_path(DOGBREED_TRAINDIR, DOGBREED_LABELPATH, 'id', DOGBREED_LABELPAIRPATH)"
   ]
  },
  {
   "cell_type": "code",
   "execution_count": 117,
   "metadata": {},
   "outputs": [],
   "source": [
    "from sklearn.preprocessing import LabelEncoder\n",
    "\n",
    "def num_encoding_labels_file(labels_file, label_name, outpath):\n",
    "    # load labels from labels file\n",
    "    labels_df = pd.read_csv(labels_file)\n",
    "    label_col = labels_df[label_name]\n",
    "    \n",
    "    # encode to number \n",
    "    lbl_encoder = LabelEncoder()\n",
    "    lbl_encoder.fit(label_col)\n",
    "    mapping =  dict(zip(lbl_encoder.classes_, lbl_encoder.transform(lbl_encoder.classes_)))\n",
    "    labels_df[\"labels\"] = lbl_encoder.transform(label_col)\n",
    "\n",
    "    # write to csv file\n",
    "    labels_df.to_csv(outpath, index=False)\n",
    "    \n",
    "    # write to pickle\n",
    "    outpath, ext = os.path.splitext(outpath)\n",
    "    picklefile = \"%s_map.pickle\" % outpath\n",
    "    print(picklefile)\n",
    "    with open(picklefile, 'wb') as fp:\n",
    "        pickle.dump(mapping, fp, protocol=pickle.HIGHEST_PROTOCOL)\n",
    "    \n",
    "    return labels_df, mapping"
   ]
  },
  {
   "cell_type": "code",
   "execution_count": 118,
   "metadata": {},
   "outputs": [
    {
     "name": "stdout",
     "output_type": "stream",
     "text": [
      "/home/saa/saa-workspaces/dogbreed-kaggle/data/dogbreed/raw/labels_enc_map.pickle\n"
     ]
    }
   ],
   "source": [
    "enclbl_df, mapping = num_encoding_labels_file(DOGBREED_LABELPAIRPATH, \"breed\", DOGBREED_ENCLABELPATH)"
   ]
  },
  {
   "cell_type": "code",
   "execution_count": 124,
   "metadata": {},
   "outputs": [],
   "source": [
    "def _skf_path_labels(all_paths, all_labels, outdir, out_prefix=\"\", n_splits=5):\n",
    "    # stratify dataset\n",
    "    skf = StratifiedKFold(n_splits=n_splits)\n",
    "    for i, (train_idx, test_idx) in enumerate(skf.split(all_paths, all_labels)):\n",
    "        X_train = all_paths[train_idx] # X_train is list of train data path \n",
    "        y_train = all_labels[train_idx] # y_train is list of label values\n",
    "\n",
    "        # path for text of train path list\n",
    "        train_prefix = \"{}train_split_{}.txt\".format(out_prefix, i)\n",
    "        train_filepath = os.path.join(outdir, train_prefix) \n",
    "\n",
    "        with open(train_filepath, 'w') as fp:\n",
    "            for filepath, label in zip(X_train, y_train):\n",
    "                fp.write(\"{} {}\\n\".format(filepath, label))\n",
    "        \n",
    "        X_test = all_paths[test_idx] # X_test is list of train data path\n",
    "        y_test = all_labels[test_idx] # y_test is list of train data path\n",
    "\n",
    "        # path for text of test path list\n",
    "        test_prefix = \"{}test_split_{}.txt\".format(out_prefix, i)\n",
    "        test_filepath = os.path.join(outdir, test_prefix) \n",
    "\n",
    "        with open(test_filepath, 'w') as fp:\n",
    "            for filepath, label in zip(X_test, y_test):\n",
    "                fp.write(\"{} {}\\n\".format(filepath, label))"
   ]
  },
  {
   "cell_type": "code",
   "execution_count": 120,
   "metadata": {},
   "outputs": [],
   "source": [
    "def split_path_label_pairs(labels_file, path_colname, label_name, outdir, out_prefix=\"\", separator=\",\", has_header=True, n_splits=5):\n",
    "    \"\"\"Split path-label pairs to k folds of train and test set.\n",
    "    This will take labels file and generate k text files each contains lists of data paths.\n",
    "    Labels file should contains file name (data) and label (2 columns) in each line, seperated by separator.\n",
    "\n",
    "    Arguments:\n",
    "        - labels_file (str): filename/path for labels file\n",
    "        - outdir (str): specify dir for saving skf text files\n",
    "        - out_prefix (str): if provided, will prefix the text filename with it\n",
    "        - separator (char): specify separator used in labels_file\n",
    "        - has_header (bool): whether the 1st row in labels_file is a header\n",
    "        - n_splits (int): number of splits (k)\n",
    "    \"\"\"\n",
    "    labels_df = pd.read_csv(labels_file)\n",
    "    all_paths = labels_df[path_colname].to_numpy()\n",
    "    all_labels = labels_df[label_name].to_numpy()\n",
    "    \n",
    "    _skf_path_labels(all_paths, all_labels, outdir)"
   ]
  },
  {
   "cell_type": "code",
   "execution_count": 125,
   "metadata": {},
   "outputs": [],
   "source": [
    "split_path_label_pairs(DOGBREED_ENCLABELPATH, 'paths', 'labels', DOGBREED_SPLITDIR)"
   ]
  },
  {
   "cell_type": "code",
   "execution_count": null,
   "metadata": {},
   "outputs": [],
   "source": []
  }
 ],
 "metadata": {
  "kernelspec": {
   "display_name": "Python 3",
   "language": "python",
   "name": "python3"
  },
  "language_info": {
   "codemirror_mode": {
    "name": "ipython",
    "version": 3
   },
   "file_extension": ".py",
   "mimetype": "text/x-python",
   "name": "python",
   "nbconvert_exporter": "python",
   "pygments_lexer": "ipython3",
   "version": "3.7.3"
  }
 },
 "nbformat": 4,
 "nbformat_minor": 2
}
